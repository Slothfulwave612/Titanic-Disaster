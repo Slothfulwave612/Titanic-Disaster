{
 "cells": [
  {
   "cell_type": "markdown",
   "metadata": {},
   "source": [
    "# Titanic_ML_Project\n",
    "\n",
    "* *Prelude*:\n",
    "\n",
    "    The sinking of the RMS Titanic is one of the most infamous shipwrecks in history.  On April 15, 1912, during her maiden voyage, the Titanic sank after colliding with an iceberg, killing 1502 out of 2224 passengers and crew. This sensational tragedy shocked the international community and led to better safety regulations for ships.\n",
    "\n",
    "    One of the reasons that the shipwreck led to such loss of life was that there were not enough lifeboats for the passengers and crew. Although there was some element of luck involved in surviving the sinking, some groups of people were more likely to survive than others, such as women, children, and the upper-class.\n",
    "\n",
    "\n",
    "* *About the Project*:\n",
    "\n",
    "    In this project, we will try to analyze the data of the passengers in the Titanic and try to find out what sorts of people were likely to survive.\n",
    "    In particular, we will apply the tools of machine learning to predict which passengers survived the tragedy."
   ]
  },
  {
   "cell_type": "markdown",
   "metadata": {},
   "source": [
    "### 1. The Imports:\n",
    "* **Packages Imported** :-\n",
    "\n",
    "    1. sys: access to system parameters\n",
    "    2. numpy : for numerical computation\n",
    "    3. pandas: for data manipulation and analysis\n",
    "    4. matplotlib: plotting library\n",
    "    5. seaborn: plotting library based on matplotlib\n",
    "    6. sklearn: machine learning library"
   ]
  },
  {
   "cell_type": "code",
   "execution_count": 233,
   "metadata": {},
   "outputs": [],
   "source": [
    "## load packages\n",
    "import sys\n",
    "import numpy as np\n",
    "import pandas as pd\n",
    "import matplotlib as mtlb\n",
    "import seaborn as sns\n",
    "import sklearn as skl"
   ]
  },
  {
   "cell_type": "code",
   "execution_count": 234,
   "metadata": {},
   "outputs": [
    {
     "name": "stdout",
     "output_type": "stream",
     "text": [
      "Python version: 3.6.8 |Anaconda custom (64-bit)| (default, Feb 21 2019, 18:30:04) [MSC v.1916 64 bit (AMD64)]\n",
      "\n",
      "Numpy version: 1.12.0\n",
      "Pandas version: 0.23.4\n",
      "Matplotlib version: 3.1.0\n",
      "Seaborn version: 0.9.0\n",
      "sklearn version: 0.19.0\n"
     ]
    }
   ],
   "source": [
    "## version of packages used\n",
    "print(f'Python version: {sys.version}', end='\\n\\n')\n",
    "print(f'Numpy version: {np.__version__}')\n",
    "print(f'Pandas version: {pd.__version__}')\n",
    "print(f'Matplotlib version: {mtlb.__version__}')\n",
    "print(f'Seaborn version: {sns.__version__}')\n",
    "print(f'sklearn version: {skl.__version__}')"
   ]
  },
  {
   "cell_type": "code",
   "execution_count": 235,
   "metadata": {},
   "outputs": [],
   "source": [
    "import matplotlib.style as style\n",
    "import matplotlib.pyplot as plt\n",
    "style.use('seaborn-poster') #sets the size of the charts\n",
    "style.use('ggplot')\n",
    "%matplotlib inline"
   ]
  },
  {
   "cell_type": "markdown",
   "metadata": {},
   "source": [
    "### model algorithms and model helpers"
   ]
  },
  {
   "cell_type": "markdown",
   "metadata": {},
   "source": [
    "### 2. The Data:"
   ]
  },
  {
   "cell_type": "markdown",
   "metadata": {},
   "source": [
    "* **Overview** :\n",
    "\n",
    " *The training set* will be used to build our machine learning models. For the training set, we have the outcome (also known as the “ground truth”) for each passenger. Our model will be based on “features” like passengers’ gender and class. And we will also use feature engineering to create new features."
   ]
  },
  {
   "cell_type": "markdown",
   "metadata": {},
   "source": [
    "* The data contains following fields:\n",
    "\n",
    "    * PassengerID: to identify each row.\n",
    "    * Survived: whether the passanger survived or not.(0=No,1=Yes)\n",
    "    * Plcass: class of the ticket passenger purchased.(1st class =1, 2nd class =2, 3rd classs= 3)\n",
    "    * Sex: the passenger's sex.\n",
    "    * Name: name of the passenger.\n",
    "    * SibSp: the number of sibling or spouses passenger had aboard the titanic\n",
    "    * Parch: the number of parents or childern the titianic passenger had aboard the Titanic\n",
    "    * Ticket: ticket number\n",
    "    * Fare: fare of the passenger paid\n",
    "    * Cabin: passenger's cabin number\n",
    "    * Embarked: the port where the passenger embarked.(C = Cherbourg, Q = Queenstown, S = Southampton)"
   ]
  },
  {
   "cell_type": "markdown",
   "metadata": {},
   "source": [
    "~ Read the data from train.csv file using pandas's read_csv function."
   ]
  },
  {
   "cell_type": "code",
   "execution_count": 236,
   "metadata": {},
   "outputs": [],
   "source": [
    "## titanic_data will store the data from train.csv\n",
    "titanic_data = pd.read_csv('train.csv')"
   ]
  },
  {
   "cell_type": "markdown",
   "metadata": {},
   "source": [
    "~ Use basic functions to see the dataset and the information about the dataset"
   ]
  },
  {
   "cell_type": "code",
   "execution_count": 237,
   "metadata": {},
   "outputs": [
    {
     "data": {
      "text/html": [
       "<div>\n",
       "<style scoped>\n",
       "    .dataframe tbody tr th:only-of-type {\n",
       "        vertical-align: middle;\n",
       "    }\n",
       "\n",
       "    .dataframe tbody tr th {\n",
       "        vertical-align: top;\n",
       "    }\n",
       "\n",
       "    .dataframe thead th {\n",
       "        text-align: right;\n",
       "    }\n",
       "</style>\n",
       "<table border=\"1\" class=\"dataframe\">\n",
       "  <thead>\n",
       "    <tr style=\"text-align: right;\">\n",
       "      <th></th>\n",
       "      <th>PassengerId</th>\n",
       "      <th>Survived</th>\n",
       "      <th>Pclass</th>\n",
       "      <th>Name</th>\n",
       "      <th>Sex</th>\n",
       "      <th>Age</th>\n",
       "      <th>SibSp</th>\n",
       "      <th>Parch</th>\n",
       "      <th>Ticket</th>\n",
       "      <th>Fare</th>\n",
       "      <th>Cabin</th>\n",
       "      <th>Embarked</th>\n",
       "    </tr>\n",
       "  </thead>\n",
       "  <tbody>\n",
       "    <tr>\n",
       "      <th>0</th>\n",
       "      <td>1</td>\n",
       "      <td>0</td>\n",
       "      <td>3</td>\n",
       "      <td>Braund, Mr. Owen Harris</td>\n",
       "      <td>male</td>\n",
       "      <td>22.0</td>\n",
       "      <td>1</td>\n",
       "      <td>0</td>\n",
       "      <td>A/5 21171</td>\n",
       "      <td>7.2500</td>\n",
       "      <td>NaN</td>\n",
       "      <td>S</td>\n",
       "    </tr>\n",
       "    <tr>\n",
       "      <th>1</th>\n",
       "      <td>2</td>\n",
       "      <td>1</td>\n",
       "      <td>1</td>\n",
       "      <td>Cumings, Mrs. John Bradley (Florence Briggs Th...</td>\n",
       "      <td>female</td>\n",
       "      <td>38.0</td>\n",
       "      <td>1</td>\n",
       "      <td>0</td>\n",
       "      <td>PC 17599</td>\n",
       "      <td>71.2833</td>\n",
       "      <td>C85</td>\n",
       "      <td>C</td>\n",
       "    </tr>\n",
       "    <tr>\n",
       "      <th>2</th>\n",
       "      <td>3</td>\n",
       "      <td>1</td>\n",
       "      <td>3</td>\n",
       "      <td>Heikkinen, Miss. Laina</td>\n",
       "      <td>female</td>\n",
       "      <td>26.0</td>\n",
       "      <td>0</td>\n",
       "      <td>0</td>\n",
       "      <td>STON/O2. 3101282</td>\n",
       "      <td>7.9250</td>\n",
       "      <td>NaN</td>\n",
       "      <td>S</td>\n",
       "    </tr>\n",
       "    <tr>\n",
       "      <th>3</th>\n",
       "      <td>4</td>\n",
       "      <td>1</td>\n",
       "      <td>1</td>\n",
       "      <td>Futrelle, Mrs. Jacques Heath (Lily May Peel)</td>\n",
       "      <td>female</td>\n",
       "      <td>35.0</td>\n",
       "      <td>1</td>\n",
       "      <td>0</td>\n",
       "      <td>113803</td>\n",
       "      <td>53.1000</td>\n",
       "      <td>C123</td>\n",
       "      <td>S</td>\n",
       "    </tr>\n",
       "    <tr>\n",
       "      <th>4</th>\n",
       "      <td>5</td>\n",
       "      <td>0</td>\n",
       "      <td>3</td>\n",
       "      <td>Allen, Mr. William Henry</td>\n",
       "      <td>male</td>\n",
       "      <td>35.0</td>\n",
       "      <td>0</td>\n",
       "      <td>0</td>\n",
       "      <td>373450</td>\n",
       "      <td>8.0500</td>\n",
       "      <td>NaN</td>\n",
       "      <td>S</td>\n",
       "    </tr>\n",
       "    <tr>\n",
       "      <th>5</th>\n",
       "      <td>6</td>\n",
       "      <td>0</td>\n",
       "      <td>3</td>\n",
       "      <td>Moran, Mr. James</td>\n",
       "      <td>male</td>\n",
       "      <td>NaN</td>\n",
       "      <td>0</td>\n",
       "      <td>0</td>\n",
       "      <td>330877</td>\n",
       "      <td>8.4583</td>\n",
       "      <td>NaN</td>\n",
       "      <td>Q</td>\n",
       "    </tr>\n",
       "    <tr>\n",
       "      <th>6</th>\n",
       "      <td>7</td>\n",
       "      <td>0</td>\n",
       "      <td>1</td>\n",
       "      <td>McCarthy, Mr. Timothy J</td>\n",
       "      <td>male</td>\n",
       "      <td>54.0</td>\n",
       "      <td>0</td>\n",
       "      <td>0</td>\n",
       "      <td>17463</td>\n",
       "      <td>51.8625</td>\n",
       "      <td>E46</td>\n",
       "      <td>S</td>\n",
       "    </tr>\n",
       "    <tr>\n",
       "      <th>7</th>\n",
       "      <td>8</td>\n",
       "      <td>0</td>\n",
       "      <td>3</td>\n",
       "      <td>Palsson, Master. Gosta Leonard</td>\n",
       "      <td>male</td>\n",
       "      <td>2.0</td>\n",
       "      <td>3</td>\n",
       "      <td>1</td>\n",
       "      <td>349909</td>\n",
       "      <td>21.0750</td>\n",
       "      <td>NaN</td>\n",
       "      <td>S</td>\n",
       "    </tr>\n",
       "    <tr>\n",
       "      <th>8</th>\n",
       "      <td>9</td>\n",
       "      <td>1</td>\n",
       "      <td>3</td>\n",
       "      <td>Johnson, Mrs. Oscar W (Elisabeth Vilhelmina Berg)</td>\n",
       "      <td>female</td>\n",
       "      <td>27.0</td>\n",
       "      <td>0</td>\n",
       "      <td>2</td>\n",
       "      <td>347742</td>\n",
       "      <td>11.1333</td>\n",
       "      <td>NaN</td>\n",
       "      <td>S</td>\n",
       "    </tr>\n",
       "    <tr>\n",
       "      <th>9</th>\n",
       "      <td>10</td>\n",
       "      <td>1</td>\n",
       "      <td>2</td>\n",
       "      <td>Nasser, Mrs. Nicholas (Adele Achem)</td>\n",
       "      <td>female</td>\n",
       "      <td>14.0</td>\n",
       "      <td>1</td>\n",
       "      <td>0</td>\n",
       "      <td>237736</td>\n",
       "      <td>30.0708</td>\n",
       "      <td>NaN</td>\n",
       "      <td>C</td>\n",
       "    </tr>\n",
       "  </tbody>\n",
       "</table>\n",
       "</div>"
      ],
      "text/plain": [
       "   PassengerId  Survived  Pclass  \\\n",
       "0            1         0       3   \n",
       "1            2         1       1   \n",
       "2            3         1       3   \n",
       "3            4         1       1   \n",
       "4            5         0       3   \n",
       "5            6         0       3   \n",
       "6            7         0       1   \n",
       "7            8         0       3   \n",
       "8            9         1       3   \n",
       "9           10         1       2   \n",
       "\n",
       "                                                Name     Sex   Age  SibSp  \\\n",
       "0                            Braund, Mr. Owen Harris    male  22.0      1   \n",
       "1  Cumings, Mrs. John Bradley (Florence Briggs Th...  female  38.0      1   \n",
       "2                             Heikkinen, Miss. Laina  female  26.0      0   \n",
       "3       Futrelle, Mrs. Jacques Heath (Lily May Peel)  female  35.0      1   \n",
       "4                           Allen, Mr. William Henry    male  35.0      0   \n",
       "5                                   Moran, Mr. James    male   NaN      0   \n",
       "6                            McCarthy, Mr. Timothy J    male  54.0      0   \n",
       "7                     Palsson, Master. Gosta Leonard    male   2.0      3   \n",
       "8  Johnson, Mrs. Oscar W (Elisabeth Vilhelmina Berg)  female  27.0      0   \n",
       "9                Nasser, Mrs. Nicholas (Adele Achem)  female  14.0      1   \n",
       "\n",
       "   Parch            Ticket     Fare Cabin Embarked  \n",
       "0      0         A/5 21171   7.2500   NaN        S  \n",
       "1      0          PC 17599  71.2833   C85        C  \n",
       "2      0  STON/O2. 3101282   7.9250   NaN        S  \n",
       "3      0            113803  53.1000  C123        S  \n",
       "4      0            373450   8.0500   NaN        S  \n",
       "5      0            330877   8.4583   NaN        Q  \n",
       "6      0             17463  51.8625   E46        S  \n",
       "7      1            349909  21.0750   NaN        S  \n",
       "8      2            347742  11.1333   NaN        S  \n",
       "9      0            237736  30.0708   NaN        C  "
      ]
     },
     "execution_count": 237,
     "metadata": {},
     "output_type": "execute_result"
    }
   ],
   "source": [
    "## head() to see first few rows of the dataset\n",
    "titanic_data.head(10)"
   ]
  },
  {
   "cell_type": "code",
   "execution_count": 184,
   "metadata": {},
   "outputs": [
    {
     "name": "stdout",
     "output_type": "stream",
     "text": [
      "<class 'pandas.core.frame.DataFrame'>\n",
      "RangeIndex: 891 entries, 0 to 890\n",
      "Data columns (total 12 columns):\n",
      "PassengerId    891 non-null int64\n",
      "Survived       891 non-null int64\n",
      "Pclass         891 non-null int64\n",
      "Name           891 non-null object\n",
      "Sex            891 non-null object\n",
      "Age            714 non-null float64\n",
      "SibSp          891 non-null int64\n",
      "Parch          891 non-null int64\n",
      "Ticket         891 non-null object\n",
      "Fare           891 non-null float64\n",
      "Cabin          204 non-null object\n",
      "Embarked       889 non-null object\n",
      "dtypes: float64(2), int64(5), object(5)\n",
      "memory usage: 83.6+ KB\n"
     ]
    }
   ],
   "source": [
    "## use info() function\n",
    "titanic_data.info()"
   ]
  },
  {
   "cell_type": "code",
   "execution_count": 185,
   "metadata": {},
   "outputs": [
    {
     "data": {
      "text/plain": [
       "PassengerId    False\n",
       "Survived       False\n",
       "Pclass         False\n",
       "Name           False\n",
       "Sex            False\n",
       "Age             True\n",
       "SibSp          False\n",
       "Parch          False\n",
       "Ticket         False\n",
       "Fare           False\n",
       "Cabin           True\n",
       "Embarked        True\n",
       "dtype: bool"
      ]
     },
     "execution_count": 185,
     "metadata": {},
     "output_type": "execute_result"
    }
   ],
   "source": [
    "## check for NaN values\n",
    "titanic_data.isna().any()"
   ]
  },
  {
   "cell_type": "markdown",
   "metadata": {},
   "source": [
    "* **Summary of Dataframe -- using info() and isna().any() :**\n",
    "\n",
    "  - There is a total of 891 entries(i.e. 891 row).\n",
    "  \n",
    "  - The dataframe contains 12 columns: 2 have float values, 5 have int values and 5 have string values\n",
    "    \n",
    "  - Data Columns:\n",
    "      - PassengerId (int): Unique Identifier, contains no NaN values.\n",
    "      - Survived (int): Outcome or Dependent Variable, contains 0 or 1; 0 for not survived and 1 for survived; no NaN values.  \n",
    "      - Pclass (int): Representing Ticket class, 1 = upper class, 2 = middle class, 3 = lower class, no NaN values.\n",
    "      - Name (string): Names of passengers, no NaN values.\n",
    "      - Sex (string): Gender of the passenger, no NaN values.\n",
    "      - Age (float): Age of the passenger, contains NaN values.\n",
    "      - SibSp (int): Number of related siblings/spouse aboard, no NaN values.\n",
    "      - Parch (int): Number of related parents/children aboard, no NaN values.\n",
    "      - Ticket (string): Ticket Numbers, no NaN values.\n",
    "      - Fare (float): Price of the ticket, no NaN values.\n",
    "      - Cabin (string): Cabin number of passengers, contains NaN values.\n",
    "      - Embarked (string): Port of Embarkation; C = Cherbourg, Q = Queenstown, S = Southampton; contains NaN values."
   ]
  },
  {
   "cell_type": "code",
   "execution_count": 186,
   "metadata": {},
   "outputs": [
    {
     "data": {
      "text/html": [
       "<div>\n",
       "<style scoped>\n",
       "    .dataframe tbody tr th:only-of-type {\n",
       "        vertical-align: middle;\n",
       "    }\n",
       "\n",
       "    .dataframe tbody tr th {\n",
       "        vertical-align: top;\n",
       "    }\n",
       "\n",
       "    .dataframe thead th {\n",
       "        text-align: right;\n",
       "    }\n",
       "</style>\n",
       "<table border=\"1\" class=\"dataframe\">\n",
       "  <thead>\n",
       "    <tr style=\"text-align: right;\">\n",
       "      <th></th>\n",
       "      <th>PassengerId</th>\n",
       "      <th>Survived</th>\n",
       "      <th>Pclass</th>\n",
       "      <th>Age</th>\n",
       "      <th>SibSp</th>\n",
       "      <th>Parch</th>\n",
       "      <th>Fare</th>\n",
       "    </tr>\n",
       "  </thead>\n",
       "  <tbody>\n",
       "    <tr>\n",
       "      <th>count</th>\n",
       "      <td>891.000000</td>\n",
       "      <td>891.000000</td>\n",
       "      <td>891.000000</td>\n",
       "      <td>714.000000</td>\n",
       "      <td>891.000000</td>\n",
       "      <td>891.000000</td>\n",
       "      <td>891.000000</td>\n",
       "    </tr>\n",
       "    <tr>\n",
       "      <th>mean</th>\n",
       "      <td>446.000000</td>\n",
       "      <td>0.383838</td>\n",
       "      <td>2.308642</td>\n",
       "      <td>29.699118</td>\n",
       "      <td>0.523008</td>\n",
       "      <td>0.381594</td>\n",
       "      <td>32.204208</td>\n",
       "    </tr>\n",
       "    <tr>\n",
       "      <th>std</th>\n",
       "      <td>257.353842</td>\n",
       "      <td>0.486592</td>\n",
       "      <td>0.836071</td>\n",
       "      <td>14.526497</td>\n",
       "      <td>1.102743</td>\n",
       "      <td>0.806057</td>\n",
       "      <td>49.693429</td>\n",
       "    </tr>\n",
       "    <tr>\n",
       "      <th>min</th>\n",
       "      <td>1.000000</td>\n",
       "      <td>0.000000</td>\n",
       "      <td>1.000000</td>\n",
       "      <td>0.420000</td>\n",
       "      <td>0.000000</td>\n",
       "      <td>0.000000</td>\n",
       "      <td>0.000000</td>\n",
       "    </tr>\n",
       "    <tr>\n",
       "      <th>25%</th>\n",
       "      <td>223.500000</td>\n",
       "      <td>0.000000</td>\n",
       "      <td>2.000000</td>\n",
       "      <td>20.125000</td>\n",
       "      <td>0.000000</td>\n",
       "      <td>0.000000</td>\n",
       "      <td>7.910400</td>\n",
       "    </tr>\n",
       "    <tr>\n",
       "      <th>50%</th>\n",
       "      <td>446.000000</td>\n",
       "      <td>0.000000</td>\n",
       "      <td>3.000000</td>\n",
       "      <td>28.000000</td>\n",
       "      <td>0.000000</td>\n",
       "      <td>0.000000</td>\n",
       "      <td>14.454200</td>\n",
       "    </tr>\n",
       "    <tr>\n",
       "      <th>75%</th>\n",
       "      <td>668.500000</td>\n",
       "      <td>1.000000</td>\n",
       "      <td>3.000000</td>\n",
       "      <td>38.000000</td>\n",
       "      <td>1.000000</td>\n",
       "      <td>0.000000</td>\n",
       "      <td>31.000000</td>\n",
       "    </tr>\n",
       "    <tr>\n",
       "      <th>max</th>\n",
       "      <td>891.000000</td>\n",
       "      <td>1.000000</td>\n",
       "      <td>3.000000</td>\n",
       "      <td>80.000000</td>\n",
       "      <td>8.000000</td>\n",
       "      <td>6.000000</td>\n",
       "      <td>512.329200</td>\n",
       "    </tr>\n",
       "  </tbody>\n",
       "</table>\n",
       "</div>"
      ],
      "text/plain": [
       "       PassengerId    Survived      Pclass         Age       SibSp  \\\n",
       "count   891.000000  891.000000  891.000000  714.000000  891.000000   \n",
       "mean    446.000000    0.383838    2.308642   29.699118    0.523008   \n",
       "std     257.353842    0.486592    0.836071   14.526497    1.102743   \n",
       "min       1.000000    0.000000    1.000000    0.420000    0.000000   \n",
       "25%     223.500000    0.000000    2.000000   20.125000    0.000000   \n",
       "50%     446.000000    0.000000    3.000000   28.000000    0.000000   \n",
       "75%     668.500000    1.000000    3.000000   38.000000    1.000000   \n",
       "max     891.000000    1.000000    3.000000   80.000000    8.000000   \n",
       "\n",
       "            Parch        Fare  \n",
       "count  891.000000  891.000000  \n",
       "mean     0.381594   32.204208  \n",
       "std      0.806057   49.693429  \n",
       "min      0.000000    0.000000  \n",
       "25%      0.000000    7.910400  \n",
       "50%      0.000000   14.454200  \n",
       "75%      0.000000   31.000000  \n",
       "max      6.000000  512.329200  "
      ]
     },
     "execution_count": 186,
     "metadata": {},
     "output_type": "execute_result"
    }
   ],
   "source": [
    "## use describe() method\n",
    "titanic_data.describe()"
   ]
  },
  {
   "cell_type": "markdown",
   "metadata": {},
   "source": [
    "* **Summary of Dataframe -- using describe():**\n",
    "    - PassengerId has unique value fromh 1 to 891.\n",
    "    - Survived has value either 0 or 1, mean is 0.38 that means we have more data about passengers who did not surived the crash.\n",
    "    - Pclass has value either 1 or 2 or 3, mean is 2.3 that means we have a lots of people in passenger class 2.\n",
    "    - Age has NaN values, min age being 0.4 and max being 80, mean is 29.6 that means we have a lot of people having age around 30.\n",
    "    - SibSp has min value of 0 and max value of 8, mean is 0.52 that means there are lot of people having no siblings or spouse aboard.\n",
    "    - Parch has min value 0 and max value 6, mean being 0.38 that means there are lot of people have no parents or children aboard.\n",
    "    - Fare has min value 0 and max value 512.32, mean being 32.20 that means avg ticket price was 32.20"
   ]
  },
  {
   "cell_type": "markdown",
   "metadata": {},
   "source": [
    "* From the dataset above we can see that we have *SibSp* and *Parch* fields, now what we can do is take these two fields and make a new field named as *Family_Size*. To insert value in the new field we have to sum the values from *SibSp* and *Parch* field and add one to the result, so to give us the family size of that particular person."
   ]
  },
  {
   "cell_type": "code",
   "execution_count": 187,
   "metadata": {},
   "outputs": [],
   "source": [
    "## make new column Family_Size \n",
    "family_values = titanic_data['SibSp'] + titanic_data['Parch'] + 1\n",
    "titanic_data.insert(loc=6, column='Family_Size', value=family_values)"
   ]
  },
  {
   "cell_type": "markdown",
   "metadata": {},
   "source": [
    "* Since we have used *SibSp* and *Parch* fields to create *Family_Size* field, so we do not need those two field and now we will drop *SibSp* and *Parch* fields from our dataframe."
   ]
  },
  {
   "cell_type": "code",
   "execution_count": 188,
   "metadata": {},
   "outputs": [],
   "source": [
    "## drop the columns\n",
    "titanic_data.drop(['SibSp', 'Parch'], axis=1, inplace=True)"
   ]
  },
  {
   "cell_type": "markdown",
   "metadata": {},
   "source": [
    "* Dropping *Ticket* field. PASSENGER ID IF NOT USED"
   ]
  },
  {
   "cell_type": "code",
   "execution_count": 189,
   "metadata": {},
   "outputs": [],
   "source": [
    "## drop Ticket Field\n",
    "titanic_data.drop('Ticket', axis=1, inplace=True)"
   ]
  },
  {
   "cell_type": "code",
   "execution_count": 190,
   "metadata": {},
   "outputs": [
    {
     "data": {
      "text/plain": [
       "Index(['PassengerId', 'Survived', 'Pclass', 'Name', 'Sex', 'Age',\n",
       "       'Family_Size', 'Fare', 'Cabin', 'Embarked'],\n",
       "      dtype='object')"
      ]
     },
     "execution_count": 190,
     "metadata": {},
     "output_type": "execute_result"
    }
   ],
   "source": [
    "## check column names\n",
    "titanic_data.columns"
   ]
  },
  {
   "cell_type": "markdown",
   "metadata": {},
   "source": [
    "* Find out how many NaN values are there in *Age*, *Cabin* and *Embarked* columns."
   ]
  },
  {
   "cell_type": "code",
   "execution_count": 191,
   "metadata": {
    "scrolled": true
   },
   "outputs": [
    {
     "data": {
      "text/plain": [
       "Age         177\n",
       "Cabin       687\n",
       "Embarked      2\n",
       "dtype: int64"
      ]
     },
     "execution_count": 191,
     "metadata": {},
     "output_type": "execute_result"
    }
   ],
   "source": [
    "## to find number of NaN values\n",
    "list_values = ['Age', 'Cabin', 'Embarked']\n",
    "titanic_data[list_values].isna().sum()"
   ]
  },
  {
   "cell_type": "markdown",
   "metadata": {},
   "source": [
    "* So from the output above we can see that the *Cabin* field has too much NaN values. Now we will drop the *Cabin* field and try to fill up *Age* and *Embarked* fields."
   ]
  },
  {
   "cell_type": "code",
   "execution_count": 192,
   "metadata": {},
   "outputs": [],
   "source": [
    "## drop Cabin field\n",
    "titanic_data.drop('Cabin', axis=1, inplace=True)"
   ]
  },
  {
   "cell_type": "code",
   "execution_count": 193,
   "metadata": {},
   "outputs": [
    {
     "data": {
      "text/plain": [
       "Index(['PassengerId', 'Survived', 'Pclass', 'Name', 'Sex', 'Age',\n",
       "       'Family_Size', 'Fare', 'Embarked'],\n",
       "      dtype='object')"
      ]
     },
     "execution_count": 193,
     "metadata": {},
     "output_type": "execute_result"
    }
   ],
   "source": [
    "## check the column names\n",
    "titanic_data.columns"
   ]
  },
  {
   "cell_type": "markdown",
   "metadata": {},
   "source": [
    "* So, we hae finally deleted the *Cabin* field. Now let's fillup the *Age* and *Embarked* columns."
   ]
  },
  {
   "cell_type": "markdown",
   "metadata": {},
   "source": [
    "* **Filling Up *Age* field**:\n",
    "    \n",
    "    To fill up the *Age* field's NaN values we will use *Pclass* field. The *Pclass* field has 3 classes (1,2,3), now what we will do is, we will find median age in all these three classes and then we will fill up the missing values according to the Pclass we encounter while filling up the missing values."
   ]
  },
  {
   "cell_type": "markdown",
   "metadata": {},
   "source": [
    "~ To find median age for all *Pclass*"
   ]
  },
  {
   "cell_type": "code",
   "execution_count": 194,
   "metadata": {},
   "outputs": [
    {
     "data": {
      "text/plain": [
       "Pclass\n",
       "1    37.0\n",
       "2    29.0\n",
       "3    24.0\n",
       "Name: Age, dtype: float64"
      ]
     },
     "execution_count": 194,
     "metadata": {},
     "output_type": "execute_result"
    }
   ],
   "source": [
    "## median age for each class\n",
    "titanic_data.groupby(by='Pclass')['Age'].median()"
   ]
  },
  {
   "cell_type": "code",
   "execution_count": 195,
   "metadata": {},
   "outputs": [],
   "source": [
    "## fill up NaN values in Age field\n",
    "## fill_age: function to fill the null values in Age field\n",
    "\n",
    "def fill_age(cols):\n",
    "    pclass = cols[0]\n",
    "    age = cols[1]\n",
    "    \n",
    "    if pd.isnull(age):\n",
    "        if pclass == 1:\n",
    "            return 37.0\n",
    "        elif pclass == 2:\n",
    "            return 29.0\n",
    "        else:\n",
    "            return 24.0\n",
    "    else:\n",
    "        return age\n",
    "\n",
    "## apply fill_age method to Age column\n",
    "titanic_data['Age'] = titanic_data[['Pclass', 'Age']].apply(fill_age, axis=1)"
   ]
  },
  {
   "cell_type": "markdown",
   "metadata": {},
   "source": [
    "* **Filling up *Embarked* Field**:"
   ]
  },
  {
   "cell_type": "markdown",
   "metadata": {},
   "source": [
    "~ Count total number of occurence for *S, C* and *Q*"
   ]
  },
  {
   "cell_type": "code",
   "execution_count": 196,
   "metadata": {},
   "outputs": [
    {
     "data": {
      "text/plain": [
       "S    644\n",
       "C    168\n",
       "Q     77\n",
       "Name: Embarked, dtype: int64"
      ]
     },
     "execution_count": 196,
     "metadata": {},
     "output_type": "execute_result"
    }
   ],
   "source": [
    "## use value_counts() method\n",
    "titanic_data['Embarked'].value_counts()"
   ]
  },
  {
   "cell_type": "markdown",
   "metadata": {},
   "source": [
    "* From here we can see that S (i.e. Southampton) is by far the most embarked port. And since it's value is higher than the rest of the ports, so we will fill up the missing values with S port."
   ]
  },
  {
   "cell_type": "code",
   "execution_count": 197,
   "metadata": {},
   "outputs": [],
   "source": [
    "## fill up missing values\n",
    "titanic_data['Embarked'].fillna(value='S', inplace=True)"
   ]
  },
  {
   "cell_type": "markdown",
   "metadata": {},
   "source": [
    "* Let's recheck the dataframe: to see whether any NaN values are still there or not."
   ]
  },
  {
   "cell_type": "code",
   "execution_count": 198,
   "metadata": {},
   "outputs": [
    {
     "data": {
      "text/plain": [
       "PassengerId    False\n",
       "Survived       False\n",
       "Pclass         False\n",
       "Name           False\n",
       "Sex            False\n",
       "Age            False\n",
       "Family_Size    False\n",
       "Fare           False\n",
       "Embarked       False\n",
       "dtype: bool"
      ]
     },
     "execution_count": 198,
     "metadata": {},
     "output_type": "execute_result"
    }
   ],
   "source": [
    "## check for NaN values\n",
    "titanic_data.isna().any()"
   ]
  },
  {
   "cell_type": "markdown",
   "metadata": {},
   "source": [
    "~ Since all the NaN values are filled up, now we can do ***Exploratory Data Analysis(EDA)***."
   ]
  },
  {
   "cell_type": "markdown",
   "metadata": {},
   "source": [
    "### 3. Exploratory Data Analysis(EDA)"
   ]
  },
  {
   "cell_type": "markdown",
   "metadata": {},
   "source": [
    "* Total number of passengers who survived and those who don't."
   ]
  },
  {
   "cell_type": "code",
   "execution_count": 199,
   "metadata": {},
   "outputs": [
    {
     "name": "stdout",
     "output_type": "stream",
     "text": [
      "0    549\n",
      "1    342\n",
      "Name: Survived, dtype: int64\n"
     ]
    },
    {
     "data": {
      "text/plain": [
       "<matplotlib.axes._subplots.AxesSubplot at 0x220b684bfd0>"
      ]
     },
     "execution_count": 199,
     "metadata": {},
     "output_type": "execute_result"
    },
    {
     "data": {
      "image/png": "[encoded data removed]",
      "text/plain": [
       "<Figure size 432x288 with 1 Axes>"
      ]
     },
     "metadata": {
      "needs_background": "light"
     },
     "output_type": "display_data"
    }
   ],
   "source": [
    "## use value_counts() method\n",
    "print(titanic_data['Survived'].value_counts())\n",
    "\n",
    "## visualize the data\n",
    "## use seaborn's countplot\n",
    "sns.countplot(x='Survived', data=titanic_data, palette='PuBu')"
   ]
  },
  {
   "cell_type": "markdown",
   "metadata": {},
   "source": [
    "~ Most passengers(549) did not survived the disaster. Only 342 passengers were able to survive the disaster.\n",
    "\n",
    "---\n"
   ]
  },
  {
   "cell_type": "markdown",
   "metadata": {},
   "source": [
    "* Number of passengers in each *Pclass*."
   ]
  },
  {
   "cell_type": "code",
   "execution_count": 200,
   "metadata": {},
   "outputs": [
    {
     "name": "stdout",
     "output_type": "stream",
     "text": [
      "1    216\n",
      "2    184\n",
      "3    491\n",
      "Name: Pclass, dtype: int64\n"
     ]
    },
    {
     "data": {
      "text/plain": [
       "<matplotlib.axes._subplots.AxesSubplot at 0x220b6610358>"
      ]
     },
     "execution_count": 200,
     "metadata": {},
     "output_type": "execute_result"
    },
    {
     "data": {
      "image/png": "[encoded data removed]",
      "text/plain": [
       "<Figure size 432x288 with 1 Axes>"
      ]
     },
     "metadata": {
      "needs_background": "light"
     },
     "output_type": "display_data"
    }
   ],
   "source": [
    "## use value_counts()\n",
    "print(titanic_data['Pclass'].value_counts().sort_index())\n",
    "\n",
    "## visualize the data\n",
    "## use seaborn's countplot\n",
    "sns.countplot(x='Pclass', data=titanic_data, palette='viridis')"
   ]
  },
  {
   "cell_type": "markdown",
   "metadata": {},
   "source": [
    "~ There were 216 passengers in *Pclass-1*, 184 passengers in *Pclass-2* and 491 passengers in *Pclass-3*.\n",
    "\n",
    "\n",
    "---"
   ]
  },
  {
   "cell_type": "markdown",
   "metadata": {},
   "source": [
    "* Total number of male and female passengers."
   ]
  },
  {
   "cell_type": "code",
   "execution_count": 201,
   "metadata": {},
   "outputs": [
    {
     "name": "stdout",
     "output_type": "stream",
     "text": [
      "male      577\n",
      "female    314\n",
      "Name: Sex, dtype: int64\n"
     ]
    },
    {
     "data": {
      "text/plain": [
       "<matplotlib.axes._subplots.AxesSubplot at 0x220b66abbe0>"
      ]
     },
     "execution_count": 201,
     "metadata": {},
     "output_type": "execute_result"
    },
    {
     "data": {
      "image/png": "[encoded data removed]",
      "text/plain": [
       "<Figure size 432x288 with 1 Axes>"
      ]
     },
     "metadata": {
      "needs_background": "light"
     },
     "output_type": "display_data"
    }
   ],
   "source": [
    "## use value_counts()\n",
    "print(titanic_data['Sex'].value_counts())\n",
    "\n",
    "## visualize the data\n",
    "## use seaborn's countplot\n",
    "sns.countplot(x='Sex', data=titanic_data, palette='Paired')"
   ]
  },
  {
   "cell_type": "markdown",
   "metadata": {},
   "source": [
    "~ There were more males(577) then females(314).\n"
   ]
  },
  {
   "cell_type": "markdown",
   "metadata": {},
   "source": [
    "---"
   ]
  },
  {
   "cell_type": "markdown",
   "metadata": {},
   "source": [
    "* Minimum age, Mean age and Maximum age of the passengers. "
   ]
  },
  {
   "cell_type": "code",
   "execution_count": 202,
   "metadata": {},
   "outputs": [
    {
     "name": "stdout",
     "output_type": "stream",
     "text": [
      "Minimum Age: 0.42\n",
      "Mean Age: 29.06640852974186\n",
      "Maximum Age: 80.0\n"
     ]
    }
   ],
   "source": [
    "## use min(), max(), mean() methods\n",
    "print(f\"Minimum Age: {titanic_data['Age'].min()}\")\n",
    "print(f\"Mean Age: {titanic_data['Age'].mean()}\")\n",
    "print(f\"Maximum Age: {titanic_data['Age'].max()}\")"
   ]
  },
  {
   "cell_type": "markdown",
   "metadata": {},
   "source": [
    "~ The *minimum age* is of an infant: *5.04 months*, the *average age* of the passengers: *29.066 years* and the *maximum age* of the passenger: *80 years*.\n"
   ]
  },
  {
   "cell_type": "markdown",
   "metadata": {},
   "source": [
    "---"
   ]
  },
  {
   "cell_type": "markdown",
   "metadata": {},
   "source": [
    "* List of family size and total occurence of each family size."
   ]
  },
  {
   "cell_type": "code",
   "execution_count": 203,
   "metadata": {},
   "outputs": [
    {
     "name": "stdout",
     "output_type": "stream",
     "text": [
      "Family Size:\n",
      "1\n",
      "2\n",
      "3\n",
      "4\n",
      "5\n",
      "6\n",
      "7\n",
      "8\n",
      "11\n",
      "\n",
      "1     537\n",
      "2     161\n",
      "3     102\n",
      "4      29\n",
      "5      15\n",
      "6      22\n",
      "7      12\n",
      "8       6\n",
      "11      7\n",
      "Name: Family_Size, dtype: int64\n"
     ]
    },
    {
     "data": {
      "text/plain": [
       "<matplotlib.axes._subplots.AxesSubplot at 0x220b649e908>"
      ]
     },
     "execution_count": 203,
     "metadata": {},
     "output_type": "execute_result"
    },
    {
     "data": {
      "image/png": "[encoded data removed]",
      "text/plain": [
       "<Figure size 432x288 with 1 Axes>"
      ]
     },
     "metadata": {
      "needs_background": "light"
     },
     "output_type": "display_data"
    }
   ],
   "source": [
    "## use unique() method to find family size\n",
    "print('Family Size:')\n",
    "for i in sorted(titanic_data['Family_Size'].unique()):\n",
    "    print(i)\n",
    "    \n",
    "print()    \n",
    "    \n",
    "## use value_counts() to find occurence of each family size    \n",
    "print(titanic_data['Family_Size'].value_counts().sort_index())\n",
    "\n",
    "## visualize the data\n",
    "## use seaborn's countplot()\n",
    "sns.countplot(x='Family_Size', data=titanic_data, palette='coolwarm')"
   ]
  },
  {
   "cell_type": "markdown",
   "metadata": {},
   "source": [
    "~ There are *9 family sizes* in our dataset. Minimum being 1 and maximum being 11.\n",
    "\n",
    "~ Most of the passengers that were travelling were single(537) and only 7 passengers were there having a family size of 11 members.\n",
    "\n",
    "---"
   ]
  },
  {
   "cell_type": "markdown",
   "metadata": {},
   "source": [
    "* Minimum fare, Average fare and Maximum fare."
   ]
  },
  {
   "cell_type": "code",
   "execution_count": 204,
   "metadata": {},
   "outputs": [
    {
     "name": "stdout",
     "output_type": "stream",
     "text": [
      "Minimum Fare: 0.0\n",
      "Average Fare: 32.2042079685746\n",
      "Maximum Fare: 512.3292\n"
     ]
    }
   ],
   "source": [
    "## use min(), mean(), max() methods\n",
    "print(f\"Minimum Fare: {titanic_data['Fare'].min()}\")\n",
    "print(f\"Average Fare: {titanic_data['Fare'].mean()}\")\n",
    "print(f\"Maximum Fare: {titanic_data['Fare'].max()}\")"
   ]
  },
  {
   "cell_type": "markdown",
   "metadata": {},
   "source": [
    "---"
   ]
  },
  {
   "cell_type": "markdown",
   "metadata": {},
   "source": [
    "* Passengers from each Embarked port."
   ]
  },
  {
   "cell_type": "code",
   "execution_count": 205,
   "metadata": {},
   "outputs": [
    {
     "name": "stdout",
     "output_type": "stream",
     "text": [
      "S    646\n",
      "C    168\n",
      "Q     77\n",
      "Name: Embarked, dtype: int64\n"
     ]
    },
    {
     "data": {
      "text/plain": [
       "<matplotlib.axes._subplots.AxesSubplot at 0x220b684b0f0>"
      ]
     },
     "execution_count": 205,
     "metadata": {},
     "output_type": "execute_result"
    },
    {
     "data": {
      "image/png": "[encoded data removed]",
      "text/plain": [
       "<Figure size 432x288 with 1 Axes>"
      ]
     },
     "metadata": {
      "needs_background": "light"
     },
     "output_type": "display_data"
    }
   ],
   "source": [
    "## use value_counts() method\n",
    "print(titanic_data['Embarked'].value_counts())\n",
    "\n",
    "## visualize the data\n",
    "## use seaborn's countplot\n",
    "sns.countplot(x='Embarked', data=titanic_data, palette='bone')"
   ]
  },
  {
   "cell_type": "markdown",
   "metadata": {},
   "source": [
    "~ Most of the passengers*(646)* boarded from the *Southampton* port, followed by *168 passengers* from *Cherbourg* port and *77 passengers* from  *Queenstown* port.\n",
    "\n"
   ]
  },
  {
   "cell_type": "markdown",
   "metadata": {},
   "source": [
    "---"
   ]
  },
  {
   "cell_type": "markdown",
   "metadata": {},
   "source": [
    "* Survival count male v/s female"
   ]
  },
  {
   "cell_type": "code",
   "execution_count": 206,
   "metadata": {},
   "outputs": [
    {
     "name": "stdout",
     "output_type": "stream",
     "text": [
      "Survived  Sex   \n",
      "0         female     81\n",
      "          male      468\n",
      "1         female    233\n",
      "          male      109\n",
      "Name: PassengerId, dtype: int64\n"
     ]
    },
    {
     "data": {
      "text/plain": [
       "<matplotlib.axes._subplots.AxesSubplot at 0x220b6a11cf8>"
      ]
     },
     "execution_count": 206,
     "metadata": {},
     "output_type": "execute_result"
    },
    {
     "data": {
      "image/png": "[encoded data removed]",
      "text/plain": [
       "<Figure size 432x288 with 1 Axes>"
      ]
     },
     "metadata": {
      "needs_background": "light"
     },
     "output_type": "display_data"
    }
   ],
   "source": [
    "## use groupby() and count() methods\n",
    "print(titanic_data.groupby(by=['Survived', 'Sex']).count()['PassengerId'])\n",
    "\n",
    "## visualize the data\n",
    "## use seaborn's countplot()\n",
    "sns.countplot(x='Survived', data=titanic_data, hue='Sex', palette='nipy_spectral_r')"
   ]
  },
  {
   "cell_type": "markdown",
   "metadata": {},
   "source": [
    "~ *81 females* and *468 males* did not survived the disaster, on the other hand, *233 females* and *109 males* survived the disaster.\n",
    "\n"
   ]
  },
  {
   "cell_type": "markdown",
   "metadata": {},
   "source": [
    "---"
   ]
  },
  {
   "cell_type": "markdown",
   "metadata": {},
   "source": [
    "* Survived passengers in each *Pclass*."
   ]
  },
  {
   "cell_type": "code",
   "execution_count": 207,
   "metadata": {},
   "outputs": [
    {
     "name": "stdout",
     "output_type": "stream",
     "text": [
      "Pclass  Survived\n",
      "1       0            80\n",
      "        1           136\n",
      "2       0            97\n",
      "        1            87\n",
      "3       0           372\n",
      "        1           119\n",
      "Name: PassengerId, dtype: int64\n"
     ]
    },
    {
     "data": {
      "text/plain": [
       "<matplotlib.axes._subplots.AxesSubplot at 0x220b6a64710>"
      ]
     },
     "execution_count": 207,
     "metadata": {},
     "output_type": "execute_result"
    },
    {
     "data": {
      "image/png": "[encoded data removed]",
      "text/plain": [
       "<Figure size 432x288 with 1 Axes>"
      ]
     },
     "metadata": {
      "needs_background": "light"
     },
     "output_type": "display_data"
    }
   ],
   "source": [
    "## use groupby() and count() methods\n",
    "print(titanic_data.groupby(by=['Pclass', 'Survived']).count()['PassengerId'])\n",
    "\n",
    "## visualize the data\n",
    "## use seaborn's countplot\n",
    "sns.countplot(x='Pclass', data=titanic_data, hue='Survived')"
   ]
  },
  {
   "cell_type": "markdown",
   "metadata": {},
   "source": [
    "~ *Pclass-1*: *80 passengers* did not survived and *136 passengers* survived.\n",
    "\n",
    "~ *Pclass-2*: *97 passengers* did not survived and *87 passengers* survived.\n",
    "  \n",
    "~ *Pclass-3*: *372 passengers* did not survived and *119 passengers* survived.\n",
    "\n",
    "---"
   ]
  },
  {
   "cell_type": "markdown",
   "metadata": {},
   "source": [
    "* Minimum age, Average age and Maximum age of the passengers who survived and who don't."
   ]
  },
  {
   "cell_type": "code",
   "execution_count": 219,
   "metadata": {},
   "outputs": [
    {
     "name": "stdout",
     "output_type": "stream",
     "text": [
      "The passengers who survived:\n",
      "\tMinimum Age: 0.42\n",
      "\tAverage Age: 28.27388888888889\n",
      "\tMaximum Age: 80.0\n",
      "\n",
      "The passengers who did not survived:\n",
      "\tMinimum Age: 1.0\n",
      "\tAverage Age: 29.560109289617486\n",
      "\tMaximum Age: 74.0\n",
      "\n"
     ]
    },
    {
     "data": {
      "image/png": "[encoded data removed]",
      "text/plain": [
       "<Figure size 432x288 with 1 Axes>"
      ]
     },
     "metadata": {
      "needs_background": "light"
     },
     "output_type": "display_data"
    }
   ],
   "source": [
    "## use min(), mean(), max() methods\n",
    "print(\"The passengers who survived:\")\n",
    "print(f\"\\tMinimum Age: {titanic_data[titanic_data['Survived'] == 1]['Age'].min()}\")\n",
    "print(f\"\\tAverage Age: {titanic_data[titanic_data['Survived'] == 1]['Age'].mean()}\")\n",
    "print(f\"\\tMaximum Age: {titanic_data[titanic_data['Survived'] == 1]['Age'].max()}\")\n",
    "      \n",
    "print()      \n",
    "\n",
    "print(\"The passengers who did not survived:\")\n",
    "print(f\"\\tMinimum Age: {titanic_data[titanic_data['Survived'] == 0]['Age'].min()}\")\n",
    "print(f\"\\tAverage Age: {titanic_data[titanic_data['Survived'] == 0]['Age'].mean()}\")\n",
    "print(f\"\\tMaximum Age: {titanic_data[titanic_data['Survived'] == 0]['Age'].max()}\")\n",
    "      \n",
    "print()      \n",
    "\n",
    "## visualize the data\n",
    "## using seaborn's boxplot\n",
    "titanic_data['Survived'] = titanic_data['Survived'].astype(str)\n",
    "sns.boxplot(x='Survived',y='Age', data=titanic_data)      \n",
    "titanic_data['Survived'] = titanic_data['Survived'].astype(int)"
   ]
  },
  {
   "cell_type": "markdown",
   "metadata": {},
   "source": [
    "---"
   ]
  },
  {
   "cell_type": "markdown",
   "metadata": {},
   "source": [
    "* Maximum, Average and Minimum fare for both survived and unsurvived passengers."
   ]
  },
  {
   "cell_type": "code",
   "execution_count": 224,
   "metadata": {},
   "outputs": [
    {
     "name": "stdout",
     "output_type": "stream",
     "text": [
      "The passengers who survived:\n",
      "Maximum Fare: 512.3292\n",
      "Average Fare: 48.39540760233917\n",
      "Minimum Fare: 0.0\n",
      "\n",
      "The passengers who did not survived:\n",
      "Maximum Fare: 263.0\n",
      "Average Fare: 22.117886885245877\n",
      "Minimum Fare: 0.0\n",
      "\n"
     ]
    },
    {
     "data": {
      "image/png": "[encoded data removed]",
      "text/plain": [
       "<Figure size 504x576 with 1 Axes>"
      ]
     },
     "metadata": {
      "needs_background": "light"
     },
     "output_type": "display_data"
    }
   ],
   "source": [
    "## use max(), mean(), min()\n",
    "\n",
    "print('The passengers who survived:')\n",
    "print(f\"Maximum Fare: {titanic_data[titanic_data['Survived'] == 1]['Fare'].max()}\")\n",
    "print(f\"Average Fare: {titanic_data[titanic_data['Survived'] == 1]['Fare'].mean()}\")\n",
    "print(f\"Minimum Fare: {titanic_data[titanic_data['Survived'] == 1]['Fare'].min()}\")\n",
    "\n",
    "print()\n",
    "\n",
    "print('The passengers who did not survived:')\n",
    "print(f\"Maximum Fare: {titanic_data[titanic_data['Survived'] == 0]['Fare'].max()}\")\n",
    "print(f\"Average Fare: {titanic_data[titanic_data['Survived'] == 0]['Fare'].mean()}\")\n",
    "print(f\"Minimum Fare: {titanic_data[titanic_data['Survived'] == 0]['Fare'].min()}\")\n",
    "      \n",
    "print()      \n",
    "      \n",
    "## visualize the data\n",
    "## using seaborn's boxplot\n",
    "plt.figure(figsize=(7,8))\n",
    "titanic_data['Survived'] = titanic_data['Survived'].astype(str)\n",
    "sns.boxplot(x='Survived',y='Fare', data=titanic_data)      \n",
    "titanic_data['Survived'] = titanic_data['Survived'].astype(int)"
   ]
  },
  {
   "cell_type": "markdown",
   "metadata": {},
   "source": [
    "---"
   ]
  },
  {
   "cell_type": "markdown",
   "metadata": {},
   "source": [
    "* Survival count in embarked field."
   ]
  },
  {
   "cell_type": "code",
   "execution_count": 137,
   "metadata": {},
   "outputs": [
    {
     "name": "stdout",
     "output_type": "stream",
     "text": [
      "Embarked  Survived\n",
      "C         0            75\n",
      "          1            93\n",
      "Q         0            47\n",
      "          1            30\n",
      "S         0           427\n",
      "          1           219\n",
      "Name: PassengerId, dtype: int64\n"
     ]
    },
    {
     "data": {
      "text/plain": [
       "<matplotlib.axes._subplots.AxesSubplot at 0x220ad5baf98>"
      ]
     },
     "execution_count": 137,
     "metadata": {},
     "output_type": "execute_result"
    },
    {
     "data": {
      "image/png": "[encoded data removed]",
      "text/plain": [
       "<Figure size 432x288 with 1 Axes>"
      ]
     },
     "metadata": {
      "needs_background": "light"
     },
     "output_type": "display_data"
    }
   ],
   "source": [
    "## use groupby() and count() methods\n",
    "print(titanic_data.groupby(by=['Embarked', 'Survived']).count()['PassengerId'])\n",
    "\n",
    "## visualize the data\n",
    "## use seaborn's countplot\n",
    "sns.countplot(x='Embarked', data=titanic_data, hue='Survived', palette='bone')"
   ]
  },
  {
   "cell_type": "markdown",
   "metadata": {},
   "source": [
    "~ Since, there were more number of passengers from *S port* so their survival and their death rate is high compared to other ports.\n",
    "\n",
    "---"
   ]
  },
  {
   "cell_type": "markdown",
   "metadata": {},
   "source": [
    "* Minimum, Average and Maximum age in each Pclass."
   ]
  },
  {
   "cell_type": "code",
   "execution_count": 138,
   "metadata": {},
   "outputs": [
    {
     "name": "stdout",
     "output_type": "stream",
     "text": [
      "Pclass\n",
      "1    38.062130\n",
      "2    29.825163\n",
      "3    24.824684\n",
      "Name: Age, dtype: float64\n"
     ]
    },
    {
     "data": {
      "text/plain": [
       "<matplotlib.axes._subplots.AxesSubplot at 0x220adc8a668>"
      ]
     },
     "execution_count": 138,
     "metadata": {},
     "output_type": "execute_result"
    },
    {
     "data": {
      "image/png": "[encoded data removed]",
      "text/plain": [
       "<Figure size 432x288 with 1 Axes>"
      ]
     },
     "metadata": {
      "needs_background": "light"
     },
     "output_type": "display_data"
    }
   ],
   "source": [
    "## use groupby() and mean() method\n",
    "print(titanic_data.groupby(by='Pclass').mean()['Age'])\n",
    "\n",
    "## visualize the data\n",
    "## use pandas plot method\n",
    "titanic_data.groupby(by='Pclass').mean()['Age'].plot(kind='bar')"
   ]
  },
  {
   "cell_type": "markdown",
   "metadata": {},
   "source": [
    "~ Mean age of : \n",
    " \n",
    " *Pclass-1* was *38.06 years*\n",
    "\n",
    " *Pclass-2* was *29.82 years*\n",
    "                 \n",
    " *Pclass-3* was *24.82 years*\n",
    " "
   ]
  },
  {
   "cell_type": "markdown",
   "metadata": {},
   "source": [
    "---\n",
    "\n",
    "* Minimum, Average and Maximum age for each Sex."
   ]
  },
  {
   "cell_type": "code",
   "execution_count": 225,
   "metadata": {
    "scrolled": false
   },
   "outputs": [
    {
     "name": "stdout",
     "output_type": "stream",
     "text": [
      "For Male:\n",
      "\tMinimum Age: 0.42\n",
      "\tAverage Age: 29.83218370883882\n",
      "\tMaximum Age: 80.0\n",
      "\n",
      "For Female:\n",
      "\tMinimum Age: 0.75\n",
      "\tAverage Age: 27.659235668789808\n",
      "\tMaximum Age: 63.0\n"
     ]
    },
    {
     "data": {
      "text/plain": [
       "<matplotlib.axes._subplots.AxesSubplot at 0x220b7082eb8>"
      ]
     },
     "execution_count": 225,
     "metadata": {},
     "output_type": "execute_result"
    },
    {
     "data": {
      "image/png": "[encoded data removed]",
      "text/plain": [
       "<Figure size 432x288 with 1 Axes>"
      ]
     },
     "metadata": {
      "needs_background": "light"
     },
     "output_type": "display_data"
    }
   ],
   "source": [
    "## use min(), mean(), max() methods\n",
    "print('For Male:')\n",
    "print(f\"\\tMinimum Age: {titanic_data[titanic_data['Sex'] == 'male']['Age'].min()}\")\n",
    "print(f\"\\tAverage Age: {titanic_data[titanic_data['Sex'] == 'male']['Age'].mean()}\")\n",
    "print(f\"\\tMaximum Age: {titanic_data[titanic_data['Sex'] == 'male']['Age'].max()}\")\n",
    "      \n",
    "print()      \n",
    "      \n",
    "print('For Female:')\n",
    "print(f\"\\tMinimum Age: {titanic_data[titanic_data['Sex'] == 'female']['Age'].min()}\")\n",
    "print(f\"\\tAverage Age: {titanic_data[titanic_data['Sex'] == 'female']['Age'].mean()}\")\n",
    "print(f\"\\tMaximum Age: {titanic_data[titanic_data['Sex'] == 'female']['Age'].max()}\")\n",
    "      \n",
    "## visualize the data\n",
    "## using seaborn's boxplot\n",
    "sns.boxplot(x='Sex',y='Age', data=titanic_data)      "
   ]
  },
  {
   "cell_type": "markdown",
   "metadata": {},
   "source": [
    "---"
   ]
  },
  {
   "cell_type": "markdown",
   "metadata": {},
   "source": [
    "* **Exploring Age field**: Let us divide the age group into five different categories - Child(0 -12 years), Adolescence(13-18 years), Young Adult(19-39 years), Adult(40-59 years) and Senior Adult(60 years and above). And then let's try to find out number of passengers in each groups, their mean ages, their mean fare and survival rates."
   ]
  },
  {
   "cell_type": "code",
   "execution_count": 231,
   "metadata": {},
   "outputs": [
    {
     "name": "stdout",
     "output_type": "stream",
     "text": [
      "For Child(0.0 - 12.99 years):\n",
      "\tNumber of Passengers: 69\n",
      "\tMean Age: 4.770579710144927\n",
      "\tMean Fare: 31.53635217391305\n",
      "\tSurvival Rate: 0.5797101449275363\n",
      "\n",
      "For Adolescence(13.0 - 18.99 years):\n",
      "\tNumber of Passengers: 70\n",
      "\tMean Age: 16.57857142857143\n",
      "\tMean Fare: 33.451312857142874\n",
      "\tSurvival Rate: 0.42857142857142855\n",
      "\n",
      "For Young Adult(19.0 - 39.99 years):\n",
      "\tNumber of Passengers: 589\n",
      "\tMean Age: 27.55263157894737\n",
      "\tMean Fare: 29.47907979626482\n",
      "\tSurvival Rate: 0.35823429541595925\n",
      "\n",
      "For Adult(40.0 - 59.99 years):\n",
      "\tNumber of Passengers: 137\n",
      "\tMean Age: 47.35401459854015\n",
      "\tMean Fare: 41.48178394160585\n",
      "\tSurvival Rate: 0.39416058394160586\n",
      "\n",
      "For Senior Adult(60.0 years and above):\n",
      "\tNumber of Passengers: 26\n",
      "\tMean Age: 65.09615384615384\n",
      "\tMean Fare: 43.46795\n",
      "\tSurvival Rate: 0.2692307692307692\n",
      "\n"
     ]
    }
   ],
   "source": [
    "## function will return number of passengers, their mean ages, mean fare and survival rate for each age group.\n",
    "def explore_age(df, start, end, age_group):\n",
    "    num_pass = len(df[(df['Age'] >= start) & (df['Age'] <= end)])\n",
    "    mean_age = df[(df['Age'] >= start) & (df['Age'] <= end)]['Age'].mean()\n",
    "    mean_fare = df[(df['Age'] >= start) & (df['Age'] <= end)]['Fare'].mean()\n",
    "    \n",
    "    num_surv = df[(df['Age'] >= start) & (df['Age'] <= end)]['Survived'].value_counts()[1]\n",
    "    tot_num = df[(df['Age'] >= start) & (df['Age'] <= end)]['Survived'].value_counts().sum()\n",
    "    \n",
    "    surv_rate = num_surv / tot_num\n",
    "    \n",
    "    print(f'For {age_group}:')\n",
    "    print(f\"\\tNumber of Passengers: {num_pass}\")\n",
    "    print(f\"\\tMean Age: {mean_age}\")\n",
    "    print(f\"\\tMean Fare: {mean_fare}\")\n",
    "    print(f\"\\tSurvival Rate: {surv_rate}\")\n",
    "    print()\n",
    "    \n",
    "def age_group(cols):\n",
    "    if cols >= 0.0 and cols <= 12.99:\n",
    "        return 'Child'\n",
    "    elif cols >= 13.0 and cols <= 18.99:\n",
    "        return 'Adolescence'\n",
    "    elif cols >= 19.0 and cols <= 39.99:\n",
    "        return 'Young Adult'\n",
    "    elif cols >= 40.0 and cols <= 59.99:\n",
    "        return 'Adult'\n",
    "    else:\n",
    "        return 'Senior Adult'\n",
    "\n",
    "explore_age(df=titanic_data, start=0.0, end=12.99, age_group='Child(0.0 - 12.99 years)')\n",
    "explore_age(df=titanic_data, start=13.0, end=18.99, age_group='Adolescence(13.0 - 18.99 years)')\n",
    "explore_age(df=titanic_data, start=19.0, end=39.99, age_group='Young Adult(19.0 - 39.99 years)')\n",
    "explore_age(df=titanic_data, start=40.0, end=59.99, age_group='Adult(40.0 - 59.99 years)')\n",
    "explore_age(df=titanic_data, start=60.0, end=200.99, age_group='Senior Adult(60.0 years and above)')"
   ]
  },
  {
   "cell_type": "markdown",
   "metadata": {},
   "source": [
    "* Minimum, Average and Maximum age according to the age groups(visualization)."
   ]
  },
  {
   "cell_type": "code",
   "execution_count": 232,
   "metadata": {},
   "outputs": [
    {
     "data": {
      "image/png": "[encoded data removed]",
      "text/plain": [
       "<Figure size 864x576 with 1 Axes>"
      ]
     },
     "metadata": {
      "needs_background": "light"
     },
     "output_type": "display_data"
    }
   ],
   "source": [
    "## creating a new field Age_Groups\n",
    "titanic_data['Age_Groups'] = titanic_data['Age'].apply(age_group)\n",
    "\n",
    "## use seaborn's boxplot()\n",
    "plt.figure(figsize=(12,8))\n",
    "sns.boxplot(x='Age_Groups', y='Age', data=titanic_data)\n",
    "\n",
    "## drop Age_Groups field\n",
    "titanic_data.drop('Age_Groups', axis=1, inplace=True)"
   ]
  },
  {
   "cell_type": "markdown",
   "metadata": {},
   "source": [
    "---"
   ]
  },
  {
   "cell_type": "markdown",
   "metadata": {},
   "source": [
    "* **Exploring Name Field**: If we look closely to our *Name* field, we will see that each name has a title associated with it (e.g. Mr, Mrs). Let's us try to make a new field *Title* which will store the title of the corresponding names. And then we will find out value count for each title and the survival rate for each title."
   ]
  },
  {
   "cell_type": "code",
   "execution_count": 141,
   "metadata": {
    "scrolled": true
   },
   "outputs": [],
   "source": [
    "## make new column title_values\n",
    "title_values = titanic_data['Name'].apply(lambda item: item.split('.')[0]).apply(lambda item: item.split(',')[1].strip())\n",
    "titanic_data.insert(loc=4, column='Name_Title', value=title_values)"
   ]
  },
  {
   "cell_type": "markdown",
   "metadata": {},
   "source": [
    "* Value count for each name title."
   ]
  },
  {
   "cell_type": "code",
   "execution_count": 157,
   "metadata": {},
   "outputs": [
    {
     "name": "stdout",
     "output_type": "stream",
     "text": [
      "\n",
      "Value Counts for each name title:\n",
      "Mr              517\n",
      "Miss            182\n",
      "Mrs             125\n",
      "Master           40\n",
      "Dr                7\n",
      "Rev               6\n",
      "Major             2\n",
      "Col               2\n",
      "Mlle              2\n",
      "Don               1\n",
      "Mme               1\n",
      "Lady              1\n",
      "Ms                1\n",
      "Capt              1\n",
      "Sir               1\n",
      "Jonkheer          1\n",
      "the Countess      1\n",
      "Name: Name_Title, dtype: int64\n"
     ]
    }
   ],
   "source": [
    "## use value_counts() methods\n",
    "print(f\"\\nValue Counts for each name title:\\n{titanic_data['Name_Title'].value_counts()}\")"
   ]
  },
  {
   "cell_type": "code",
   "execution_count": 170,
   "metadata": {},
   "outputs": [
    {
     "name": "stdout",
     "output_type": "stream",
     "text": [
      "Survival rate for Mr title: 0.15667311411992263\n",
      "Survival rate for Mrs title: 0.792\n",
      "Survival rate for Miss title: 0.6978021978021978\n",
      "Survival rate for Master title: 0.575\n",
      "Survival rate for Don title: 0.0\n",
      "Survival rate for Rev title: 0.0\n",
      "Survival rate for Dr title: 0.42857142857142855\n",
      "Survival rate for Mme title: 1.0\n",
      "Survival rate for Ms title: 1.0\n",
      "Survival rate for Major title: 0.5\n",
      "Survival rate for Lady title: 1.0\n",
      "Survival rate for Sir title: 1.0\n",
      "Survival rate for Mlle title: 1.0\n",
      "Survival rate for Col title: 0.5\n",
      "Survival rate for Capt title: 0.0\n",
      "Survival rate for the Countess title: 1.0\n",
      "Survival rate for Jonkheer title: 0.0\n"
     ]
    }
   ],
   "source": [
    "## function to find the survival rate for each name title\n",
    "def sur_title(df, x):\n",
    "    tot_num = len(df[(df['Name_Title'] == x)])\n",
    "    sur_num = len(df[(df['Name_Title'] == x) & (df['Survived'] == 1)])\n",
    "    \n",
    "    print(f'Survival rate for {x} title: {sur_num/tot_num}')\n",
    "\n",
    "for i in titanic_data['Name_Title'].unique():\n",
    "    sur_title(df=titanic_data, x=i)"
   ]
  },
  {
   "cell_type": "markdown",
   "metadata": {},
   "source": [
    "---"
   ]
  },
  {
   "cell_type": "markdown",
   "metadata": {},
   "source": [
    "### *Slothfulwave612...*"
   ]
  }
 ],
 "metadata": {
  "kernelspec": {
   "display_name": "Python 3",
   "language": "python",
   "name": "python3"
  },
  "language_info": {
   "codemirror_mode": {
    "name": "ipython",
    "version": 3
   },
   "file_extension": ".py",
   "mimetype": "text/x-python",
   "name": "python",
   "nbconvert_exporter": "python",
   "pygments_lexer": "ipython3",
   "version": "3.6.8"
  }
 },
 "nbformat": 4,
 "nbformat_minor": 2
}
